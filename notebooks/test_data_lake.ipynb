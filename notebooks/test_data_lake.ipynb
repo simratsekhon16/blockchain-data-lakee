{
 "cells": [
  {
   "cell_type": "markdown",
   "metadata": {},
   "source": [
    "# Data Lake Testing Notebook\n",
    "This notebook demonstrates querying your MinIO + Iceberg + Trino data lake."
   ]
  },
  {
   "cell_type": "code",
   "execution_count": null,
   "metadata": {},
   "source": [
    "# Install required packages\n",
    "!pip install trino pandas pyiceberg boto3"
   ]
  },
  {
   "cell_type": "code",
   "execution_count": null,
   "metadata": {},
   "source": [
    "import trino\n",
    "import pandas as pd\n",
    "\n",
    "# Connect to Trino\n",
    "conn = trino.dbapi.connect(\n",
    "    host='trino-coordinator',\n",
    "    port=8080,\n",
    "    user='admin'\n",
    ")\n",
    "\n",
    "# Test connection\n",
    "cur = conn.cursor()\n",
    "cur.execute(\"SHOW CATALOGS\")\n",
    "catalogs = cur.fetchall()\n",
    "print(\"Available catalogs:\", catalogs)"
   ]
  },
  {
   "cell_type": "code",
   "execution_count": null,
   "metadata": {},
   "source": [
    "# Create Iceberg table from sample data\n",
    "create_table_sql = \"\"\"\n",
    "CREATE TABLE iceberg.default.employees (\n",
    "  id bigint,\n",
    "  name varchar,\n",
    "  department varchar,\n",
    "  salary bigint,\n",
    "  timestamp timestamp\n",
    ") WITH (\n",
    "  location = 's3://warehouse/employees/',\n",
    "  format = 'PARQUET'\n",
    ")\n",
    "\"\"\"\n",
    "\n",
    "cur.execute(create_table_sql)\n",
    "print(\"Table created successfully!\")"
   ]
  }
 ],
 "metadata": {
  "kernelspec": {
   "display_name": "Python 3",
   "language": "python",
   "name": "python3"
  }
 },
 "nbformat": 4,
 "nbformat_minor": 4
}
